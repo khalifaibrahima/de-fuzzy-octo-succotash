{
 "cells": [
  {
   "cell_type": "code",
   "execution_count": 137,
   "id": "ab5ac48e",
   "metadata": {},
   "outputs": [
    {
     "data": {
      "text/plain": [
       "[2002]"
      ]
     },
     "execution_count": 137,
     "metadata": {},
     "output_type": "execute_result"
    }
   ],
   "source": [
    "def my_fonction():\n",
    "    for i in range(2000,3201):\n",
    "        if i%7==0 and i%5!=0:\n",
    "            my_list=[i]\n",
    "            return my_list\n",
    "my_fonction()\n",
    "            "
   ]
  },
  {
   "cell_type": "code",
   "execution_count": 136,
   "id": "82d3d2ea",
   "metadata": {},
   "outputs": [
    {
     "data": {
      "text/plain": [
       "120"
      ]
     },
     "execution_count": 136,
     "metadata": {},
     "output_type": "execute_result"
    }
   ],
   "source": [
    "def factorielle(n):\n",
    "   if n ==0:\n",
    "      return 1\n",
    "   else:\n",
    "      F = 1\n",
    "      for k in range(2,n+1):\n",
    "         F = F * k\n",
    "\n",
    "      return F\n",
    "factorielle(5)"
   ]
  },
  {
   "cell_type": "code",
   "execution_count": 135,
   "id": "64fa6db8",
   "metadata": {},
   "outputs": [
    {
     "name": "stdout",
     "output_type": "stream",
     "text": [
      "{1: 1, 2: 4, 3: 9, 4: 16, 5: 25, 6: 36, 7: 49, 8: 64}\n"
     ]
    }
   ],
   "source": [
    "n=8\n",
    "d=dict({})\n",
    "for i in range (1,n+1):\n",
    "    d[i]=i**2\n",
    "print(d)"
   ]
  },
  {
   "cell_type": "code",
   "execution_count": 133,
   "id": "fd1b4279",
   "metadata": {},
   "outputs": [
    {
     "name": "stdout",
     "output_type": "stream",
     "text": [
      "i n t i t u t i o n\n"
     ]
    }
   ],
   "source": [
    "s=\"institution\"\n",
    "i=2\n",
    "l = list(s)\n",
    "del(l[i])\n",
    "s = \" \".join(l)\n",
    "print(s)"
   ]
  },
  {
   "cell_type": "code",
   "execution_count": 139,
   "id": "cd24a0b1",
   "metadata": {},
   "outputs": [
    {
     "name": "stdout",
     "output_type": "stream",
     "text": [
      "[[0 1]\n",
      " [2 3]\n",
      " [4 5]]\n",
      "[[0, 1], [2, 3], [4, 5]]\n"
     ]
    }
   ],
   "source": [
    "import numpy as np\n",
    "A=np.array([[0,1],[2,3],[4,5]])\n",
    "print(A)\n",
    "l=A.tolist()\n",
    "print(l)"
   ]
  },
  {
   "cell_type": "code",
   "execution_count": 102,
   "id": "d01bd7e7",
   "metadata": {},
   "outputs": [
    {
     "name": "stdout",
     "output_type": "stream",
     "text": [
      "6\n",
      "8\n",
      "12\n"
     ]
    }
   ],
   "source": [
    "import numpy as np\n",
    "C=50\n",
    "H=30\n",
    "for D in (10,20,40):\n",
    "    Q=round(np.sqrt((2*C*D)/H))\n",
    "    print (Q)"
   ]
  },
  {
   "cell_type": "code",
   "execution_count": null,
   "id": "8a79877a",
   "metadata": {},
   "outputs": [],
   "source": []
  }
 ],
 "metadata": {
  "kernelspec": {
   "display_name": "Python 3 (ipykernel)",
   "language": "python",
   "name": "python3"
  },
  "language_info": {
   "codemirror_mode": {
    "name": "ipython",
    "version": 3
   },
   "file_extension": ".py",
   "mimetype": "text/x-python",
   "name": "python",
   "nbconvert_exporter": "python",
   "pygments_lexer": "ipython3",
   "version": "3.9.7"
  }
 },
 "nbformat": 4,
 "nbformat_minor": 5
}
